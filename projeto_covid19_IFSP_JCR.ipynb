{
  "nbformat": 4,
  "nbformat_minor": 0,
  "metadata": {
    "colab": {
      "name": "projeto_covid19_IFSP-JCR.ipynb",
      "provenance": [],
      "authorship_tag": "ABX9TyMmsnGd23NBO1D8JUa0Jp5E",
      "include_colab_link": true
    },
    "kernelspec": {
      "name": "python3",
      "display_name": "Python 3"
    },
    "language_info": {
      "name": "python"
    }
  },
  "cells": [
    {
      "cell_type": "markdown",
      "metadata": {
        "id": "view-in-github",
        "colab_type": "text"
      },
      "source": [
        "<a href=\"https://colab.research.google.com/github/flavioyamada/tcc_covid19/blob/main/projeto_covid19_IFSP_JCR.ipynb\" target=\"_parent\"><img src=\"https://colab.research.google.com/assets/colab-badge.svg\" alt=\"Open In Colab\"/></a>"
      ]
    },
    {
      "cell_type": "code",
      "execution_count": 8,
      "metadata": {
        "id": "yUC-iA2DdN9l"
      },
      "outputs": [],
      "source": [
        "import requests\n",
        "import os\n",
        "import zipfile"
      ]
    },
    {
      "cell_type": "code",
      "source": [
        "dirName = 'dados_ibge'\n",
        "dirName2 = 'tabelas'\n",
        "\n",
        "try:\n",
        "    os.mkdir(dirName)\n",
        "    print(\"Directory \" , dirName,\" Created \") \n",
        "except FileExistsError:\n",
        "    print(\"Directory \" , dirName ,\" already exists\")\n",
        "try:\n",
        "    os.mkdir(dirName2)\n",
        "    print(\"Directory \" , dirName2,\" Created \") \n",
        "except FileExistsError:\n",
        "    print(\"Directory \" , dirName2 ,\" already exists\")"
      ],
      "metadata": {
        "colab": {
          "base_uri": "https://localhost:8080/"
        },
        "id": "iM3mqGxhKUMZ",
        "outputId": "ca3741ee-fd18-4a0d-9690-04cfe94405b6"
      },
      "execution_count": null,
      "outputs": [
        {
          "output_type": "stream",
          "name": "stdout",
          "text": [
            "Directory  dados_ibge  already exists\n",
            "Directory  tabelas  already exists\n"
          ]
        }
      ]
    },
    {
      "cell_type": "code",
      "source": [
        "def baixar_arquivo(url, endereco):\n",
        "  #faz a requisicao ao servidor\n",
        "    resposta = requests.get(url)\n",
        "    if resposta.status_code == requests.codes.OK:\n",
        "      with open(endereco, 'wb') as novo_arquivo:\n",
        "        novo_arquivo.write(resposta.content)\n",
        "      print(\"Download realizado com sucesso! Salvo em: {}\".format(endereco))\n",
        "    else:\n",
        "      resposta.raise_for_status()"
      ],
      "metadata": {
        "id": "PIUjqCXvdkFC"
      },
      "execution_count": null,
      "outputs": []
    },
    {
      "cell_type": "code",
      "source": [
        "if __name__ == \"__main__\":\n",
        "  URL_PADRAO = 'https://ftp.ibge.gov.br/Censos/Censo_Demografico_2010/{}'\n",
        "  baixar_arquivo(URL_PADRAO.format('Aglomerados_subnormais/Aglomerados_subnormais_informacoes_territoriais/tabelas_xls/UFs_Municipios.zip'), '/content/dados_ibge/conjunto1.zip')\n",
        "  baixar_arquivo(URL_PADRAO.format('Entorno_dos_Domicilios/xls/Municipios/sao_paulo.zip'), '/content/dados_ibge/conjunto2.zip')\n",
        "  baixar_arquivo(URL_PADRAO.format('Resultados_do_Universo/xls/Municipios/sao_paulo_20190207.zip'), '/content/dados_ibge/conjunto3.zip')\n",
        "  baixar_arquivo(URL_PADRAO.format('Educacao_e_Deslocamento/xls/sao_paulo_xls.zip'), '/content/dados_ibge/conjunto4.zip')\n",
        "  baixar_arquivo(URL_PADRAO.format('Trabalho_e_Rendimento/xls/sao_paulo_munic_xls.zip'), '/content/dados_ibge/conjunto5.zip')\n",
        "  baixar_arquivo(URL_PADRAO.format('Familias_e_Domicilios/xls/Unidades_da_Federacao/sao_paulo_xls.zip'), '/content/dados_ibge/conjunto6.zip')"
      ],
      "metadata": {
        "colab": {
          "base_uri": "https://localhost:8080/"
        },
        "id": "PfiDCnPbT_gM",
        "outputId": "6e3d08f3-0487-4ee6-a8aa-8a8ea97a7e2d"
      },
      "execution_count": null,
      "outputs": [
        {
          "output_type": "stream",
          "name": "stdout",
          "text": [
            "Download realizado com sucesso! Salvo em: /content/dados_ibge/conjunto1.zip\n",
            "Download realizado com sucesso! Salvo em: /content/dados_ibge/conjunto2.zip\n",
            "Download realizado com sucesso! Salvo em: /content/dados_ibge/conjunto3.zip\n",
            "Download realizado com sucesso! Salvo em: /content/dados_ibge/conjunto4.zip\n",
            "Download realizado com sucesso! Salvo em: /content/dados_ibge/conjunto5.zip\n",
            "Download realizado com sucesso! Salvo em: /content/dados_ibge/conjunto6.zip\n"
          ]
        }
      ]
    },
    {
      "cell_type": "code",
      "source": [
        "qtd_pastas = 6\n",
        "\n",
        "for i in range(qtd_pastas):\n",
        "  os.mkdir('/content/tabelas/tabela{}'.format(i+1))\n",
        "\n",
        "for i in range(qtd_pastas):\n",
        "  with zipfile.ZipFile('/content/dados_ibge/conjunto{}.zip'.format(i+1),\"r\") as zip_ref:\n",
        "      zip_ref.extractall(\"/content/tabelas/tabela{}\".format(i+1))"
      ],
      "metadata": {
        "id": "8AyIp5jNWBzn"
      },
      "execution_count": 15,
      "outputs": []
    },
    {
      "cell_type": "code",
      "source": [
        "try:\n",
        "  os.rename(\"/content/tabelas/tabela1\",\"/content/tabelas/aglomerados_subnormais\")\n",
        "  os.rename(\"/content/tabelas/tabela2\",\"/content/tabelas/entorno_domicilios\")\n",
        "  os.rename(\"/content/tabelas/tabela3\",\"/content/tabelas/resultado_universo\")\n",
        "  os.rename(\"/content/tabelas/tabela4\",\"/content/tabelas/educacao_deslocamento\")\n",
        "  os.rename(\"/content/tabelas/tabela5\",\"/content/tabelas/trabalho_rendimento\")\n",
        "  os.rename(\"/content/tabelas/tabela6\",\"/content/tabelas/familias_domicilio\")\n",
        "except FileNotFoundError:\n",
        "  print(\"Pasta com o nome ja alterado\")"
      ],
      "metadata": {
        "id": "H5yCzW_y2zCZ",
        "outputId": "752eff27-73a1-427b-8e1e-4b6c4a5a7bc9",
        "colab": {
          "base_uri": "https://localhost:8080/"
        }
      },
      "execution_count": 21,
      "outputs": [
        {
          "output_type": "stream",
          "name": "stdout",
          "text": [
            "Pasta com o nome ja alterado\n"
          ]
        }
      ]
    },
    {
      "cell_type": "code",
      "source": [
        ""
      ],
      "metadata": {
        "id": "9gaxXHny9CxA"
      },
      "execution_count": null,
      "outputs": []
    }
  ]
}