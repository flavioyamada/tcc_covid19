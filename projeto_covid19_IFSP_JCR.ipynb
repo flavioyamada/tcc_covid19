{
  "nbformat": 4,
  "nbformat_minor": 0,
  "metadata": {
    "colab": {
      "name": "projeto_covid19_IFSP-JCR.ipynb",
      "provenance": [],
      "authorship_tag": "ABX9TyPnisEkvQM2efVhAdEYFV0U",
      "include_colab_link": true
    },
    "kernelspec": {
      "name": "python3",
      "display_name": "Python 3"
    },
    "language_info": {
      "name": "python"
    }
  },
  "cells": [
    {
      "cell_type": "markdown",
      "metadata": {
        "id": "view-in-github",
        "colab_type": "text"
      },
      "source": [
        "<a href=\"https://colab.research.google.com/github/flavioyamada/tcc_covid19/blob/main/projeto_covid19_IFSP_JCR.ipynb\" target=\"_parent\"><img src=\"https://colab.research.google.com/assets/colab-badge.svg\" alt=\"Open In Colab\"/></a>"
      ]
    },
    {
      "cell_type": "code",
      "execution_count": 6,
      "metadata": {
        "id": "yUC-iA2DdN9l"
      },
      "outputs": [],
      "source": [
        "import requests\n",
        "import os\n",
        "import zipfile"
      ]
    },
    {
      "cell_type": "code",
      "source": [
        "dirName = 'dados_ibge'\n",
        "dirName2 = 'tabelas'\n",
        "\n",
        "try:\n",
        "    os.mkdir(dirName)\n",
        "    print(\"Directory \" , dirName,\" Created \") \n",
        "except FileExistsError:\n",
        "    print(\"Directory \" , dirName ,\" already exists\")\n",
        "try:\n",
        "    os.mkdir(dirName2)\n",
        "    print(\"Directory \" , dirName2,\" Created \") \n",
        "except FileExistsError:\n",
        "    print(\"Directory \" , dirName2 ,\" already exists\")"
      ],
      "metadata": {
        "colab": {
          "base_uri": "https://localhost:8080/"
        },
        "id": "iM3mqGxhKUMZ",
        "outputId": "ca3741ee-fd18-4a0d-9690-04cfe94405b6"
      },
      "execution_count": 2,
      "outputs": [
        {
          "output_type": "stream",
          "name": "stdout",
          "text": [
            "Directory  dados_ibge  already exists\n",
            "Directory  tabelas  already exists\n"
          ]
        }
      ]
    },
    {
      "cell_type": "code",
      "source": [
        "def baixar_arquivo(url, endereco):\n",
        "  #faz a requisicao ao servidor\n",
        "    resposta = requests.get(url)\n",
        "    if resposta.status_code == requests.codes.OK:\n",
        "      with open(endereco, 'wb') as novo_arquivo:\n",
        "        novo_arquivo.write(resposta.content)\n",
        "      print(\"Download realizado com sucesso! Salvo em: {}\".format(endereco))\n",
        "    else:\n",
        "      resposta.raise_for_status()"
      ],
      "metadata": {
        "id": "PIUjqCXvdkFC"
      },
      "execution_count": 3,
      "outputs": []
    },
    {
      "cell_type": "code",
      "source": [
        "if __name__ == \"__main__\":\n",
        "  URL_PADRAO = 'https://ftp.ibge.gov.br/Censos/Censo_Demografico_2010/{}'\n",
        "  baixar_arquivo(URL_PADRAO.format('Aglomerados_subnormais/Aglomerados_subnormais_informacoes_territoriais/tabelas_xls/UFs_Municipios.zip'), '/content/dados_ibge/conjunto1.zip')\n",
        "  baixar_arquivo(URL_PADRAO.format('Entorno_dos_Domicilios/xls/Municipios/sao_paulo.zip'), '/content/dados_ibge/conjunto2.zip')\n",
        "  baixar_arquivo(URL_PADRAO.format('Resultados_do_Universo/xls/Municipios/sao_paulo_20190207.zip'), '/content/dados_ibge/conjunto3.zip')\n",
        "  baixar_arquivo(URL_PADRAO.format('Educacao_e_Deslocamento/xls/sao_paulo_xls.zip'), '/content/dados_ibge/conjunto4.zip')\n",
        "  baixar_arquivo(URL_PADRAO.format('Trabalho_e_Rendimento/xls/sao_paulo_munic_xls.zip'), '/content/dados_ibge/conjunto5.zip')\n",
        "  baixar_arquivo(URL_PADRAO.format('Familias_e_Domicilios/xls/Unidades_da_Federacao/sao_paulo_xls.zip'), '/content/dados_ibge/conjunto6.zip')"
      ],
      "metadata": {
        "colab": {
          "base_uri": "https://localhost:8080/"
        },
        "id": "PfiDCnPbT_gM",
        "outputId": "6e3d08f3-0487-4ee6-a8aa-8a8ea97a7e2d"
      },
      "execution_count": 4,
      "outputs": [
        {
          "output_type": "stream",
          "name": "stdout",
          "text": [
            "Download realizado com sucesso! Salvo em: /content/dados_ibge/conjunto1.zip\n",
            "Download realizado com sucesso! Salvo em: /content/dados_ibge/conjunto2.zip\n",
            "Download realizado com sucesso! Salvo em: /content/dados_ibge/conjunto3.zip\n",
            "Download realizado com sucesso! Salvo em: /content/dados_ibge/conjunto4.zip\n",
            "Download realizado com sucesso! Salvo em: /content/dados_ibge/conjunto5.zip\n",
            "Download realizado com sucesso! Salvo em: /content/dados_ibge/conjunto6.zip\n"
          ]
        }
      ]
    },
    {
      "cell_type": "code",
      "source": [
        "qtd_pastas = 6\n",
        "\n",
        "for i in range(qtd_pastas):\n",
        "  os.mkdir('/content/tabelas/tabela{}'.format(i+1))\n",
        "\n",
        "for i in range(qtd_pastas):\n",
        "  with zipfile.ZipFile('/content/dados_ibge/conjunto{}.zip'.format(i+1),\"r\") as zip_ref:\n",
        "      zip_ref.extractall(\"/content/tabelas/tabela{}\".format(i+1))"
      ],
      "metadata": {
        "id": "8AyIp5jNWBzn",
        "outputId": "13f7a3c3-b237-4e69-b8ce-5e83d44327ec",
        "colab": {
          "base_uri": "https://localhost:8080/",
          "height": 235
        }
      },
      "execution_count": 5,
      "outputs": [
        {
          "output_type": "error",
          "ename": "FileExistsError",
          "evalue": "ignored",
          "traceback": [
            "\u001b[0;31m---------------------------------------------------------------------------\u001b[0m",
            "\u001b[0;31mFileExistsError\u001b[0m                           Traceback (most recent call last)",
            "\u001b[0;32m<ipython-input-5-5803b0dc1476>\u001b[0m in \u001b[0;36m<module>\u001b[0;34m()\u001b[0m\n\u001b[1;32m      2\u001b[0m \u001b[0;34m\u001b[0m\u001b[0m\n\u001b[1;32m      3\u001b[0m \u001b[0;32mfor\u001b[0m \u001b[0mi\u001b[0m \u001b[0;32min\u001b[0m \u001b[0mrange\u001b[0m\u001b[0;34m(\u001b[0m\u001b[0mqtd_pastas\u001b[0m\u001b[0;34m)\u001b[0m\u001b[0;34m:\u001b[0m\u001b[0;34m\u001b[0m\u001b[0;34m\u001b[0m\u001b[0m\n\u001b[0;32m----> 4\u001b[0;31m   \u001b[0mos\u001b[0m\u001b[0;34m.\u001b[0m\u001b[0mmkdir\u001b[0m\u001b[0;34m(\u001b[0m\u001b[0;34m'/content/tabelas/tabela{}'\u001b[0m\u001b[0;34m.\u001b[0m\u001b[0mformat\u001b[0m\u001b[0;34m(\u001b[0m\u001b[0mi\u001b[0m\u001b[0;34m+\u001b[0m\u001b[0;36m1\u001b[0m\u001b[0;34m)\u001b[0m\u001b[0;34m)\u001b[0m\u001b[0;34m\u001b[0m\u001b[0;34m\u001b[0m\u001b[0m\n\u001b[0m\u001b[1;32m      5\u001b[0m \u001b[0;34m\u001b[0m\u001b[0m\n\u001b[1;32m      6\u001b[0m \u001b[0;32mfor\u001b[0m \u001b[0mi\u001b[0m \u001b[0;32min\u001b[0m \u001b[0mrange\u001b[0m\u001b[0;34m(\u001b[0m\u001b[0mqtd_pastas\u001b[0m\u001b[0;34m)\u001b[0m\u001b[0;34m:\u001b[0m\u001b[0;34m\u001b[0m\u001b[0;34m\u001b[0m\u001b[0m\n",
            "\u001b[0;31mFileExistsError\u001b[0m: [Errno 17] File exists: '/content/tabelas/tabela1'"
          ]
        }
      ]
    },
    {
      "cell_type": "code",
      "source": [
        "tabelas = [\"aglomerados_subnormais\",\"entorno_domicilio\",\"resultado_universo\",\"educacao_deslocamento\",\"trabalho_rendimento\",\"familias_domicilio\"]\n",
        "for f in tabelas:\n",
        "  print(\"tabela\",0+1,\"/{}\".format(f))"
      ],
      "metadata": {
        "id": "H5yCzW_y2zCZ"
      },
      "execution_count": null,
      "outputs": []
    },
    {
      "cell_type": "code",
      "source": [
        "dir = '/content/tabelas/tabela'\n",
        "for f in os.listdir(dir):\n",
        "  os.remove(os.path.join(dir, f))"
      ],
      "metadata": {
        "id": "_tpnLHpOzDPP"
      },
      "execution_count": null,
      "outputs": []
    },
    {
      "cell_type": "code",
      "source": [
        ""
      ],
      "metadata": {
        "id": "9gaxXHny9CxA"
      },
      "execution_count": null,
      "outputs": []
    }
  ]
}