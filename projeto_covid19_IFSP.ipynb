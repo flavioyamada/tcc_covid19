{
  "nbformat": 4,
  "nbformat_minor": 0,
  "metadata": {
    "colab": {
      "name": "Untitled3.ipynb",
      "provenance": [],
      "authorship_tag": "ABX9TyO/JTB1ky0qaSQrb0PpqvWo",
      "include_colab_link": true
    },
    "kernelspec": {
      "name": "python3",
      "display_name": "Python 3"
    },
    "language_info": {
      "name": "python"
    }
  },
  "cells": [
    {
      "cell_type": "markdown",
      "metadata": {
        "id": "view-in-github",
        "colab_type": "text"
      },
      "source": [
        "<a href=\"https://colab.research.google.com/github/flavioyamada/tcc_covid19/blob/main/projeto_covid19_IFSP.ipynb\" target=\"_parent\"><img src=\"https://colab.research.google.com/assets/colab-badge.svg\" alt=\"Open In Colab\"/></a>"
      ]
    },
    {
      "cell_type": "code",
      "execution_count": 16,
      "metadata": {
        "id": "yUC-iA2DdN9l"
      },
      "outputs": [],
      "source": [
        "import requests\n",
        "import os"
      ]
    },
    {
      "cell_type": "code",
      "source": [
        "def baixar_arquivo(url, endereco):\n",
        "  #faz a requisicao ao servidor\n",
        "    resposta = requests.get(url)\n",
        "    if resposta.status_code == requests.codes.OK:\n",
        "      with open(endereco, 'wb') as novo_arquivo:\n",
        "        novo_arquivo.write(resposta.content)\n",
        "      print(\"Download realizado com sucesso! Salvo em: {}\".format(endereco))\n",
        "    else:\n",
        "      resposta.raise_for_status()"
      ],
      "metadata": {
        "id": "PIUjqCXvdkFC"
      },
      "execution_count": 17,
      "outputs": []
    },
    {
      "cell_type": "code",
      "source": [
        "dirName = 'dados_ibge'\n",
        "try:\n",
        "    os.mkdir(dirName)\n",
        "    print(\"Directory \" , dirName ,  \" Created \") \n",
        "except FileExistsError:\n",
        "    print(\"Directory \" , dirName ,  \" already exists\")"
      ],
      "metadata": {
        "colab": {
          "base_uri": "https://localhost:8080/"
        },
        "id": "iM3mqGxhKUMZ",
        "outputId": "88fd302d-fd65-4e35-cdd6-85d2fcb257cf"
      },
      "execution_count": 24,
      "outputs": [
        {
          "output_type": "stream",
          "name": "stdout",
          "text": [
            "Directory  dados_ibge  already exists\n"
          ]
        }
      ]
    },
    {
      "cell_type": "code",
      "source": [
        "if __name__ == \"__main__\":\n",
        "  URL_PADRAO = 'https://ftp.ibge.gov.br/Censos/Censo_Demografico_2010/{}'\n",
        "  baixar_arquivo(URL_PADRAO.format('Aglomerados_subnormais/Aglomerados_subnormais_informacoes_territoriais/tabelas_xls/UFs_Municipios.zip'), '/content/dados_ibge/Aglomerados_subnormais.zip')\n",
        "  baixar_arquivo(URL_PADRAO.format('Entorno_dos_Domicilios/xls/Municipios/sao_paulo.zip'), '/content/dados_ibge/Aglomerados_subnormais.zip')\n",
        "  baixar_arquivo(URL_PADRAO.format('Resultados_do_Universo/xls/Municipios/sao_paulo_20190207.zip'), '/content/dados_ibge/Caracteristica_populacao.zip')\n",
        "  baixar_arquivo(URL_PADRAO.format('Educacao_e_Deslocamento/xls/sao_paulo_xls.zip'), '/content/dados_ibge/Educacao_e_Deslocamento.zip')\n",
        "  baixar_arquivo(URL_PADRAO.format('Trabalho_e_Rendimento/xls/sao_paulo_munic_xls.zip'), '/content/dados_ibge/Trabalho_e_Rendimento.zip')\n",
        "  baixar_arquivo(URL_PADRAO.format('Familias_e_Domicilios/xls/Unidades_da_Federacao/sao_paulo_xls.zip'), '/content/dados_ibge/Familias_e_Domicilios.zip')"
      ],
      "metadata": {
        "colab": {
          "base_uri": "https://localhost:8080/"
        },
        "id": "PfiDCnPbT_gM",
        "outputId": "fd87e6b5-7faa-4b0b-8bd0-affb70239bc8"
      },
      "execution_count": 23,
      "outputs": [
        {
          "output_type": "stream",
          "name": "stdout",
          "text": [
            "Download realizado com sucesso! Salvo em: /content/dados_ibge/Aglomerados_subnormais.zip\n",
            "Download realizado com sucesso! Salvo em: /content/dados_ibge/Aglomerados_subnormais.zip\n",
            "Download realizado com sucesso! Salvo em: /content/dados_ibge/Caracteristica_populacao.zip\n",
            "Download realizado com sucesso! Salvo em: /content/dados_ibge/Educacao_e_Deslocamento.zip\n",
            "Download realizado com sucesso! Salvo em: /content/dados_ibge/Trabalho_e_Rendimento.zip\n",
            "Download realizado com sucesso! Salvo em: /content/dados_ibge/Familias_e_Domicilios.zip\n"
          ]
        }
      ]
    }
  ]
}